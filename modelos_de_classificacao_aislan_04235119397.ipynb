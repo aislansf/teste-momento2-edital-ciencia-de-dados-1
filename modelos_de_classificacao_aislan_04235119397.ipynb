{
 "cells": [
  {
   "cell_type": "code",
   "execution_count": 1,
   "id": "b0797837",
   "metadata": {},
   "outputs": [],
   "source": [
    "# Importando bibliotecas\n",
    "from sklearn.model_selection import train_test_split\n",
    "from sklearn.neighbors import KNeighborsClassifier\n",
    "from sklearn.ensemble import RandomForestClassifier\n",
    "from sklearn.naive_bayes import GaussianNB\n",
    "from sklearn.naive_bayes import MultinomialNB\n",
    "from sklearn.naive_bayes import BernoulliNB\n",
    "from sklearn.tree import DecisionTreeClassifier\n",
    "from sklearn.ensemble import RandomForestClassifier\n",
    "from sklearn.neural_network import MLPClassifier\n",
    "from sklearn.svm import SVC\n",
    "from sklearn.model_selection import GridSearchCV\n",
    "import pandas as pd\n",
    "import numpy as np\n",
    "import matplotlib.pyplot as plt\n",
    "import seaborn as sns\n",
    "%matplotlib inline\n",
    "from sklearn.preprocessing import LabelEncoder"
   ]
  },
  {
   "cell_type": "code",
   "execution_count": 2,
   "id": "8ae77ae5",
   "metadata": {},
   "outputs": [
    {
     "data": {
      "text/html": [
       "<div>\n",
       "<style scoped>\n",
       "    .dataframe tbody tr th:only-of-type {\n",
       "        vertical-align: middle;\n",
       "    }\n",
       "\n",
       "    .dataframe tbody tr th {\n",
       "        vertical-align: top;\n",
       "    }\n",
       "\n",
       "    .dataframe thead th {\n",
       "        text-align: right;\n",
       "    }\n",
       "</style>\n",
       "<table border=\"1\" class=\"dataframe\">\n",
       "  <thead>\n",
       "    <tr style=\"text-align: right;\">\n",
       "      <th></th>\n",
       "      <th>paciente_id</th>\n",
       "      <th>coriza</th>\n",
       "      <th>tosse_seca_ou_produtiva</th>\n",
       "      <th>calafrios</th>\n",
       "      <th>febre</th>\n",
       "      <th>dispneia</th>\n",
       "      <th>fadiga</th>\n",
       "      <th>anorexia</th>\n",
       "      <th>mialgia</th>\n",
       "      <th>astenia</th>\n",
       "      <th>...</th>\n",
       "      <th>idade</th>\n",
       "      <th>cor_autorreferida</th>\n",
       "      <th>estado_civil</th>\n",
       "      <th>escolaridade</th>\n",
       "      <th>tipo_caso_à_admissão</th>\n",
       "      <th>tempo_sintomas_internacao</th>\n",
       "      <th>desfecho</th>\n",
       "      <th>obito_menos24horas</th>\n",
       "      <th>obito_vm</th>\n",
       "      <th>obito_uti</th>\n",
       "    </tr>\n",
       "  </thead>\n",
       "  <tbody>\n",
       "    <tr>\n",
       "      <th>0</th>\n",
       "      <td>e5841df2166dd424a57127423d276bbe</td>\n",
       "      <td>Não</td>\n",
       "      <td>Não</td>\n",
       "      <td>Não</td>\n",
       "      <td>Não</td>\n",
       "      <td>Não</td>\n",
       "      <td>Não</td>\n",
       "      <td>Não</td>\n",
       "      <td>Não</td>\n",
       "      <td>Não</td>\n",
       "      <td>...</td>\n",
       "      <td>76.0</td>\n",
       "      <td>Parda/mulata</td>\n",
       "      <td>Casado/ amasiado</td>\n",
       "      <td>Ensino fundamental incompleto(1ºG)</td>\n",
       "      <td>Caso suspeito</td>\n",
       "      <td>NaN</td>\n",
       "      <td>obito</td>\n",
       "      <td>Não</td>\n",
       "      <td>Sim</td>\n",
       "      <td>Sim</td>\n",
       "    </tr>\n",
       "    <tr>\n",
       "      <th>1</th>\n",
       "      <td>3c59dc048e8850243be8079a5c74d079</td>\n",
       "      <td>Não</td>\n",
       "      <td>Sim</td>\n",
       "      <td>Não</td>\n",
       "      <td>Sim</td>\n",
       "      <td>Sim</td>\n",
       "      <td>Não</td>\n",
       "      <td>Não</td>\n",
       "      <td>Sim</td>\n",
       "      <td>Não</td>\n",
       "      <td>...</td>\n",
       "      <td>33.0</td>\n",
       "      <td>Não informado</td>\n",
       "      <td>Não informado</td>\n",
       "      <td>Não informado</td>\n",
       "      <td>Caso suspeito</td>\n",
       "      <td>7.0</td>\n",
       "      <td>alta</td>\n",
       "      <td>NaN</td>\n",
       "      <td>NaN</td>\n",
       "      <td>NaN</td>\n",
       "    </tr>\n",
       "    <tr>\n",
       "      <th>2</th>\n",
       "      <td>99c5e07b4d5de9d18c350cdf64c5aa3d</td>\n",
       "      <td>Não</td>\n",
       "      <td>Não</td>\n",
       "      <td>Não</td>\n",
       "      <td>Sim</td>\n",
       "      <td>Sim</td>\n",
       "      <td>Não</td>\n",
       "      <td>Não</td>\n",
       "      <td>Não</td>\n",
       "      <td>Não</td>\n",
       "      <td>...</td>\n",
       "      <td>42.0</td>\n",
       "      <td>Amarela/Oriental</td>\n",
       "      <td>Casado/ amasiado</td>\n",
       "      <td>Ensino médio completo</td>\n",
       "      <td>Caso suspeito</td>\n",
       "      <td>10.0</td>\n",
       "      <td>alta</td>\n",
       "      <td>NaN</td>\n",
       "      <td>NaN</td>\n",
       "      <td>NaN</td>\n",
       "    </tr>\n",
       "    <tr>\n",
       "      <th>3</th>\n",
       "      <td>1587965fb4d4b5afe8428a4a024feb0d</td>\n",
       "      <td>Não</td>\n",
       "      <td>Não</td>\n",
       "      <td>Não</td>\n",
       "      <td>Não</td>\n",
       "      <td>Sim</td>\n",
       "      <td>Não</td>\n",
       "      <td>Não</td>\n",
       "      <td>Não</td>\n",
       "      <td>Não</td>\n",
       "      <td>...</td>\n",
       "      <td>64.0</td>\n",
       "      <td>Branca</td>\n",
       "      <td>Casado/ amasiado</td>\n",
       "      <td>Ensino fundamental incompleto(1ºG)</td>\n",
       "      <td>Caso suspeito</td>\n",
       "      <td>11.0</td>\n",
       "      <td>obito</td>\n",
       "      <td>Não</td>\n",
       "      <td>Sim</td>\n",
       "      <td>Sim</td>\n",
       "    </tr>\n",
       "    <tr>\n",
       "      <th>4</th>\n",
       "      <td>b4a528955b84f584974e92d025a75d1f</td>\n",
       "      <td>Não</td>\n",
       "      <td>Não</td>\n",
       "      <td>Não</td>\n",
       "      <td>Não</td>\n",
       "      <td>Sim</td>\n",
       "      <td>Não</td>\n",
       "      <td>Não</td>\n",
       "      <td>Não</td>\n",
       "      <td>Não</td>\n",
       "      <td>...</td>\n",
       "      <td>73.0</td>\n",
       "      <td>Parda/mulata</td>\n",
       "      <td>Casado/ amasiado</td>\n",
       "      <td>Ensino fundamental incompleto(1ºG)</td>\n",
       "      <td>Caso suspeito</td>\n",
       "      <td>7.0</td>\n",
       "      <td>obito</td>\n",
       "      <td>Não</td>\n",
       "      <td>Sim</td>\n",
       "      <td>Sim</td>\n",
       "    </tr>\n",
       "  </tbody>\n",
       "</table>\n",
       "<p>5 rows × 65 columns</p>\n",
       "</div>"
      ],
      "text/plain": [
       "                        paciente_id coriza tosse_seca_ou_produtiva calafrios  \\\n",
       "0  e5841df2166dd424a57127423d276bbe    Não                     Não       Não   \n",
       "1  3c59dc048e8850243be8079a5c74d079    Não                     Sim       Não   \n",
       "2  99c5e07b4d5de9d18c350cdf64c5aa3d    Não                     Não       Não   \n",
       "3  1587965fb4d4b5afe8428a4a024feb0d    Não                     Não       Não   \n",
       "4  b4a528955b84f584974e92d025a75d1f    Não                     Não       Não   \n",
       "\n",
       "  febre dispneia fadiga anorexia mialgia astenia  ... idade cor_autorreferida  \\\n",
       "0   Não      Não    Não      Não     Não     Não  ...  76.0      Parda/mulata   \n",
       "1   Sim      Sim    Não      Não     Sim     Não  ...  33.0     Não informado   \n",
       "2   Sim      Sim    Não      Não     Não     Não  ...  42.0  Amarela/Oriental   \n",
       "3   Não      Sim    Não      Não     Não     Não  ...  64.0            Branca   \n",
       "4   Não      Sim    Não      Não     Não     Não  ...  73.0      Parda/mulata   \n",
       "\n",
       "       estado_civil                        escolaridade tipo_caso_à_admissão  \\\n",
       "0  Casado/ amasiado  Ensino fundamental incompleto(1ºG)        Caso suspeito   \n",
       "1     Não informado                       Não informado        Caso suspeito   \n",
       "2  Casado/ amasiado               Ensino médio completo        Caso suspeito   \n",
       "3  Casado/ amasiado  Ensino fundamental incompleto(1ºG)        Caso suspeito   \n",
       "4  Casado/ amasiado  Ensino fundamental incompleto(1ºG)        Caso suspeito   \n",
       "\n",
       "  tempo_sintomas_internacao desfecho obito_menos24horas obito_vm obito_uti  \n",
       "0                       NaN    obito                Não      Sim       Sim  \n",
       "1                       7.0     alta                NaN      NaN       NaN  \n",
       "2                      10.0     alta                NaN      NaN       NaN  \n",
       "3                      11.0    obito                Não      Sim       Sim  \n",
       "4                       7.0    obito                Não      Sim       Sim  \n",
       "\n",
       "[5 rows x 65 columns]"
      ]
     },
     "execution_count": 2,
     "metadata": {},
     "output_type": "execute_result"
    }
   ],
   "source": [
    "# Lendo o csv\n",
    "df = pd.read_csv('dataset_teste_selecao.csv')\n",
    "df.head()"
   ]
  },
  {
   "cell_type": "code",
   "execution_count": 3,
   "id": "192b2e1e",
   "metadata": {},
   "outputs": [],
   "source": [
    "# Selecionando atributos categóricos\n",
    "dataCategorico = df.drop(['paciente_id','tempo_vmi_total', 'tempo_uti_total','tempo_internacao','tempo_referencia_internacao','idade','tempo_sintomas_internacao'], axis=1)"
   ]
  },
  {
   "cell_type": "code",
   "execution_count": 4,
   "id": "d0e08cde",
   "metadata": {},
   "outputs": [],
   "source": [
    "# Aplicando o label enconder\n",
    "encoder = LabelEncoder()\n",
    "for i in range(0,len(dataCategorico.columns)):\n",
    "    dataCategorico[dataCategorico.columns[i]] = encoder.fit_transform(dataCategorico[dataCategorico.columns[i]])"
   ]
  },
  {
   "cell_type": "code",
   "execution_count": 5,
   "id": "fdf068d4",
   "metadata": {},
   "outputs": [],
   "source": [
    "# Adicionando identificação do paciente aos atributos categóricos\n",
    "dataCategorico['paciente_id'] = df['paciente_id']"
   ]
  },
  {
   "cell_type": "code",
   "execution_count": 6,
   "id": "4113cf60",
   "metadata": {},
   "outputs": [],
   "source": [
    "# Selecionando atributos numéricos\n",
    "dataNumerico= df.loc[:,['paciente_id','tempo_vmi_total', 'tempo_uti_total','tempo_internacao','tempo_referencia_internacao','idade','tempo_sintomas_internacao']]"
   ]
  },
  {
   "cell_type": "code",
   "execution_count": 7,
   "id": "4fd12fcf",
   "metadata": {},
   "outputs": [],
   "source": [
    "# Aplicando merge entre os datasets\n",
    "base2 = dataCategorico.merge(dataNumerico, left_on='paciente_id', right_on='paciente_id')\n",
    "\n",
    "# Atualizando dataset principal\n",
    "df = base2\n",
    "df = df.drop('paciente_id',axis=1)"
   ]
  },
  {
   "cell_type": "code",
   "execution_count": 8,
   "id": "8128ce51",
   "metadata": {},
   "outputs": [],
   "source": [
    "# Removendo características vazias\n",
    "df = df.dropna()"
   ]
  },
  {
   "cell_type": "code",
   "execution_count": 9,
   "id": "d398ae00",
   "metadata": {},
   "outputs": [],
   "source": [
    "# Criando um dataframe somente com as features\n",
    "X = df.drop('desfecho',axis=1)\n",
    "\n",
    "# Criando um dataframe somente com as classes\n",
    "y = df['desfecho']\n",
    "\n",
    "# Definindo as métricas de avaliação\n",
    "scoring = ['accuracy', 'precision','recall', 'f1', 'roc_auc']\n",
    "\n",
    "# Variaveis para armazenar o melhor classificador de cada modelo\n",
    "knn_best_estimator = \"\"\n",
    "knn_best_score = 0\n",
    "nb_best_estimator = \"\"\n",
    "nb_best_score = 0\n",
    "nb_distribution = \"\"\n",
    "dt_best_estimator = \"\"\n",
    "dt_best_score = 0\n",
    "rf_best_estimator = \"\"\n",
    "rf_best_score = 0\n",
    "mlp_best_estimator = \"\"\n",
    "mlp_best_score = 0\n",
    "svc_best_estimator = \"\"\n",
    "svc_best_score = 0\n",
    "svc_kernel = \"\""
   ]
  },
  {
   "cell_type": "markdown",
   "id": "572cf43a",
   "metadata": {},
   "source": [
    "## KNN"
   ]
  },
  {
   "cell_type": "code",
   "execution_count": 10,
   "id": "23cd3fd2",
   "metadata": {},
   "outputs": [],
   "source": [
    "# Instanciando o classificador\n",
    "knn = KNeighborsClassifier(n_jobs=-1)\n",
    "\n",
    "# Definindo alguns parametros para teste\n",
    "params = {\n",
    "    'n_neighbors': [2,3,5,10,20],\n",
    "    'metric': ['euclidean','manhattan','chebyshev']\n",
    "}"
   ]
  },
  {
   "cell_type": "code",
   "execution_count": 11,
   "id": "7a196bca",
   "metadata": {},
   "outputs": [
    {
     "name": "stdout",
     "output_type": "stream",
     "text": [
      "Métrica de avaliacao:  accuracy\n",
      "Fitting 4 folds for each of 15 candidates, totalling 60 fits\n",
      "Melhor classificador:  KNeighborsClassifier(metric='euclidean', n_jobs=-1)\n",
      "Score:  0.8979591836734694\n",
      "\n",
      "Métrica de avaliacao:  precision\n",
      "Fitting 4 folds for each of 15 candidates, totalling 60 fits\n",
      "Melhor classificador:  KNeighborsClassifier(metric='euclidean', n_jobs=-1, n_neighbors=2)\n",
      "Score:  nan\n",
      "\n",
      "Métrica de avaliacao:  recall\n",
      "Fitting 4 folds for each of 15 candidates, totalling 60 fits\n"
     ]
    },
    {
     "name": "stderr",
     "output_type": "stream",
     "text": [
      "C:\\ProgramData\\Anaconda3\\lib\\site-packages\\sklearn\\model_selection\\_search.py:918: UserWarning: One or more of the test scores are non-finite: [nan nan nan nan nan nan nan nan nan nan nan nan nan nan nan]\n",
      "  warnings.warn(\n",
      "C:\\ProgramData\\Anaconda3\\lib\\site-packages\\sklearn\\model_selection\\_search.py:918: UserWarning: One or more of the test scores are non-finite: [nan nan nan nan nan nan nan nan nan nan nan nan nan nan nan]\n",
      "  warnings.warn(\n"
     ]
    },
    {
     "name": "stdout",
     "output_type": "stream",
     "text": [
      "Melhor classificador:  KNeighborsClassifier(metric='euclidean', n_jobs=-1, n_neighbors=2)\n",
      "Score:  nan\n",
      "\n",
      "Métrica de avaliacao:  f1\n",
      "Fitting 4 folds for each of 15 candidates, totalling 60 fits\n",
      "Melhor classificador:  KNeighborsClassifier(metric='euclidean', n_jobs=-1, n_neighbors=2)\n",
      "Score:  nan\n",
      "\n",
      "Métrica de avaliacao:  roc_auc\n",
      "Fitting 4 folds for each of 15 candidates, totalling 60 fits\n",
      "Melhor classificador:  KNeighborsClassifier(metric='euclidean', n_jobs=-1, n_neighbors=2)\n",
      "Score:  nan\n",
      "\n"
     ]
    },
    {
     "name": "stderr",
     "output_type": "stream",
     "text": [
      "C:\\ProgramData\\Anaconda3\\lib\\site-packages\\sklearn\\model_selection\\_search.py:918: UserWarning: One or more of the test scores are non-finite: [nan nan nan nan nan nan nan nan nan nan nan nan nan nan nan]\n",
      "  warnings.warn(\n",
      "C:\\ProgramData\\Anaconda3\\lib\\site-packages\\sklearn\\model_selection\\_search.py:918: UserWarning: One or more of the test scores are non-finite: [nan nan nan nan nan nan nan nan nan nan nan nan nan nan nan]\n",
      "  warnings.warn(\n"
     ]
    }
   ],
   "source": [
    "# Instanciando o gridsearch e executando o modelo\n",
    "\n",
    "for score_item in scoring:\n",
    "    print('Métrica de avaliacao: ', score_item)\n",
    "    grid_search = GridSearchCV(estimator=knn,\n",
    "                           param_grid=params,\n",
    "                           cv = 4,\n",
    "                           n_jobs=-1, verbose=1, scoring=score_item)\n",
    "    #%%time\n",
    "    grid_search.fit(X, y)\n",
    "    best = grid_search.best_estimator_\n",
    "    print('Melhor classificador: ',best)\n",
    "    print('Score: ',grid_search.best_score_)\n",
    "    print()\n",
    "    if (knn_best_score < grid_search.best_score_):\n",
    "        knn_best_estimator = best\n",
    "        knn_best_score = grid_search.best_score_\n",
    "    "
   ]
  },
  {
   "cell_type": "markdown",
   "id": "dfcf7259",
   "metadata": {},
   "source": [
    "## Naive Bayes"
   ]
  },
  {
   "cell_type": "code",
   "execution_count": 12,
   "id": "fe525e64",
   "metadata": {},
   "outputs": [
    {
     "name": "stderr",
     "output_type": "stream",
     "text": [
      "C:\\ProgramData\\Anaconda3\\lib\\site-packages\\sklearn\\model_selection\\_search.py:918: UserWarning: One or more of the test scores are non-finite: [nan nan nan nan nan nan nan nan nan nan]\n",
      "  warnings.warn(\n"
     ]
    },
    {
     "name": "stdout",
     "output_type": "stream",
     "text": [
      "Métrica de avaliacao:  accuracy\n",
      "Fitting 4 folds for each of 10 candidates, totalling 40 fits\n",
      "Melhor classificador:  GaussianNB(var_smoothing=1e-05)\n",
      "Score:  0.9846938775510203\n",
      "\n",
      "Métrica de avaliacao:  precision\n",
      "Fitting 4 folds for each of 10 candidates, totalling 40 fits\n",
      "Melhor classificador:  GaussianNB(var_smoothing=1.0)\n",
      "Score:  nan\n",
      "\n",
      "Métrica de avaliacao:  recall\n",
      "Fitting 4 folds for each of 10 candidates, totalling 40 fits\n",
      "Melhor classificador:  GaussianNB(var_smoothing=1.0)\n",
      "Score:  nan\n",
      "\n",
      "Métrica de avaliacao:  f1\n",
      "Fitting 4 folds for each of 10 candidates, totalling 40 fits\n",
      "Melhor classificador:  GaussianNB(var_smoothing=1.0)\n",
      "Score:  nan\n",
      "\n",
      "Métrica de avaliacao:  roc_auc\n",
      "Fitting 4 folds for each of 10 candidates, totalling 40 fits\n",
      "Melhor classificador:  GaussianNB(var_smoothing=1.0)\n",
      "Score:  nan\n",
      "\n"
     ]
    },
    {
     "name": "stderr",
     "output_type": "stream",
     "text": [
      "C:\\ProgramData\\Anaconda3\\lib\\site-packages\\sklearn\\model_selection\\_search.py:918: UserWarning: One or more of the test scores are non-finite: [nan nan nan nan nan nan nan nan nan nan]\n",
      "  warnings.warn(\n",
      "C:\\ProgramData\\Anaconda3\\lib\\site-packages\\sklearn\\model_selection\\_search.py:918: UserWarning: One or more of the test scores are non-finite: [nan nan nan nan nan nan nan nan nan nan]\n",
      "  warnings.warn(\n",
      "C:\\ProgramData\\Anaconda3\\lib\\site-packages\\sklearn\\model_selection\\_search.py:918: UserWarning: One or more of the test scores are non-finite: [nan nan nan nan nan nan nan nan nan nan]\n",
      "  warnings.warn(\n"
     ]
    }
   ],
   "source": [
    "nb = GaussianNB()\n",
    "params = {'var_smoothing': np.logspace(0,-9, num=10)}\n",
    "for score_item in scoring:\n",
    "    print('Métrica de avaliacao: ', score_item)\n",
    "    grid_search = GridSearchCV(estimator=nb,\n",
    "                            param_grid=params,\n",
    "                            cv = 4,\n",
    "                            n_jobs=-1, verbose=1, scoring=score_item)\n",
    "    #%%time\n",
    "    grid_search.fit(X, y)\n",
    "    best = grid_search.best_estimator_\n",
    "    print('Melhor classificador: ',best)\n",
    "    print('Score: ',grid_search.best_score_)\n",
    "    print()\n",
    "    if (nb_best_score < grid_search.best_score_):\n",
    "        nb_best_estimator = best\n",
    "        nb_best_score = grid_search.best_score_\n",
    "        nb_distribution = 'Gaussian'"
   ]
  },
  {
   "cell_type": "code",
   "execution_count": 13,
   "id": "5f7944dc",
   "metadata": {},
   "outputs": [
    {
     "name": "stderr",
     "output_type": "stream",
     "text": [
      "C:\\ProgramData\\Anaconda3\\lib\\site-packages\\sklearn\\model_selection\\_search.py:918: UserWarning: One or more of the test scores are non-finite: [nan nan nan nan nan nan]\n",
      "  warnings.warn(\n"
     ]
    },
    {
     "name": "stdout",
     "output_type": "stream",
     "text": [
      "Métrica de avaliacao:  accuracy\n",
      "Fitting 4 folds for each of 6 candidates, totalling 24 fits\n",
      "Melhor classificador:  MultinomialNB()\n",
      "Score:  0.6887755102040817\n",
      "\n",
      "Métrica de avaliacao:  precision\n",
      "Fitting 4 folds for each of 6 candidates, totalling 24 fits\n",
      "Melhor classificador:  MultinomialNB(alpha=0.1)\n",
      "Score:  nan\n",
      "\n",
      "Métrica de avaliacao:  recall\n",
      "Fitting 4 folds for each of 6 candidates, totalling 24 fits\n",
      "Melhor classificador:  MultinomialNB(alpha=0.1)\n",
      "Score:  nan\n",
      "\n",
      "Métrica de avaliacao:  f1\n",
      "Fitting 4 folds for each of 6 candidates, totalling 24 fits\n",
      "Melhor classificador:  MultinomialNB(alpha=0.1)\n",
      "Score:  nan\n",
      "\n",
      "Métrica de avaliacao:  roc_auc\n",
      "Fitting 4 folds for each of 6 candidates, totalling 24 fits\n",
      "Melhor classificador:  MultinomialNB(alpha=0.1)\n",
      "Score:  nan\n",
      "\n"
     ]
    },
    {
     "name": "stderr",
     "output_type": "stream",
     "text": [
      "C:\\ProgramData\\Anaconda3\\lib\\site-packages\\sklearn\\model_selection\\_search.py:918: UserWarning: One or more of the test scores are non-finite: [nan nan nan nan nan nan]\n",
      "  warnings.warn(\n",
      "C:\\ProgramData\\Anaconda3\\lib\\site-packages\\sklearn\\model_selection\\_search.py:918: UserWarning: One or more of the test scores are non-finite: [nan nan nan nan nan nan]\n",
      "  warnings.warn(\n",
      "C:\\ProgramData\\Anaconda3\\lib\\site-packages\\sklearn\\model_selection\\_search.py:918: UserWarning: One or more of the test scores are non-finite: [nan nan nan nan nan nan]\n",
      "  warnings.warn(\n"
     ]
    }
   ],
   "source": [
    "nb = MultinomialNB()\n",
    "params = {\n",
    "    'alpha': [0.1,0.2,0.3,0.5,0.7,1.0]\n",
    "}\n",
    "for score_item in scoring:\n",
    "    print('Métrica de avaliacao: ', score_item)\n",
    "    grid_search = GridSearchCV(estimator=nb,\n",
    "                            param_grid=params,\n",
    "                            cv = 4,\n",
    "                            n_jobs=-1, verbose=1, scoring=score_item)\n",
    "    #%%time\n",
    "    grid_search.fit(X, y)\n",
    "    best = grid_search.best_estimator_\n",
    "    print('Melhor classificador: ',best)\n",
    "    print('Score: ',grid_search.best_score_)\n",
    "    print()\n",
    "    if (nb_best_score < grid_search.best_score_):\n",
    "        nb_best_estimator = best\n",
    "        nb_best_score = grid_search.best_score_\n",
    "        nb_distribution = 'Multinomial'"
   ]
  },
  {
   "cell_type": "code",
   "execution_count": 14,
   "id": "142b0d49",
   "metadata": {},
   "outputs": [
    {
     "name": "stdout",
     "output_type": "stream",
     "text": [
      "Métrica de avaliacao:  accuracy\n",
      "Fitting 4 folds for each of 6 candidates, totalling 24 fits\n",
      "Melhor classificador:  BernoulliNB(alpha=0.1)\n",
      "Score:  0.9693877551020409\n",
      "\n",
      "Métrica de avaliacao:  precision\n",
      "Fitting 4 folds for each of 6 candidates, totalling 24 fits\n"
     ]
    },
    {
     "name": "stderr",
     "output_type": "stream",
     "text": [
      "C:\\ProgramData\\Anaconda3\\lib\\site-packages\\sklearn\\model_selection\\_search.py:918: UserWarning: One or more of the test scores are non-finite: [nan nan nan nan nan nan]\n",
      "  warnings.warn(\n",
      "C:\\ProgramData\\Anaconda3\\lib\\site-packages\\sklearn\\model_selection\\_search.py:918: UserWarning: One or more of the test scores are non-finite: [nan nan nan nan nan nan]\n",
      "  warnings.warn(\n"
     ]
    },
    {
     "name": "stdout",
     "output_type": "stream",
     "text": [
      "Melhor classificador:  BernoulliNB(alpha=0.1)\n",
      "Score:  nan\n",
      "\n",
      "Métrica de avaliacao:  recall\n",
      "Fitting 4 folds for each of 6 candidates, totalling 24 fits\n",
      "Melhor classificador:  BernoulliNB(alpha=0.1)\n",
      "Score:  nan\n",
      "\n",
      "Métrica de avaliacao:  f1\n",
      "Fitting 4 folds for each of 6 candidates, totalling 24 fits\n",
      "Melhor classificador:  BernoulliNB(alpha=0.1)\n",
      "Score:  nan\n",
      "\n",
      "Métrica de avaliacao:  roc_auc\n",
      "Fitting 4 folds for each of 6 candidates, totalling 24 fits\n",
      "Melhor classificador:  BernoulliNB(alpha=0.1)\n",
      "Score:  nan\n",
      "\n"
     ]
    },
    {
     "name": "stderr",
     "output_type": "stream",
     "text": [
      "C:\\ProgramData\\Anaconda3\\lib\\site-packages\\sklearn\\model_selection\\_search.py:918: UserWarning: One or more of the test scores are non-finite: [nan nan nan nan nan nan]\n",
      "  warnings.warn(\n",
      "C:\\ProgramData\\Anaconda3\\lib\\site-packages\\sklearn\\model_selection\\_search.py:918: UserWarning: One or more of the test scores are non-finite: [nan nan nan nan nan nan]\n",
      "  warnings.warn(\n"
     ]
    }
   ],
   "source": [
    "nb = BernoulliNB()\n",
    "params = {\n",
    "    'alpha': [0.1,0.2,0.3,0.5,0.7,1.0]\n",
    "}\n",
    "for score_item in scoring:\n",
    "    print('Métrica de avaliacao: ', score_item)\n",
    "    grid_search = GridSearchCV(estimator=nb,\n",
    "                            param_grid=params,\n",
    "                            cv = 4,\n",
    "                            n_jobs=-1, verbose=1, scoring=score_item)\n",
    "    #%%time\n",
    "    grid_search.fit(X, y)\n",
    "    best = grid_search.best_estimator_\n",
    "    print('Melhor classificador: ',best)\n",
    "    print('Score: ',grid_search.best_score_)\n",
    "    print()\n",
    "    if (nb_best_score < grid_search.best_score_):\n",
    "        nb_best_estimator = best\n",
    "        nb_best_score = grid_search.best_score_\n",
    "        nb_distribution = 'Bernoulli'"
   ]
  },
  {
   "cell_type": "markdown",
   "id": "02d3707d",
   "metadata": {},
   "source": [
    "## Decision Tree"
   ]
  },
  {
   "cell_type": "code",
   "execution_count": 15,
   "id": "23f47c46",
   "metadata": {},
   "outputs": [
    {
     "name": "stdout",
     "output_type": "stream",
     "text": [
      "Métrica de avaliacao:  accuracy\n",
      "Fitting 4 folds for each of 60 candidates, totalling 240 fits\n",
      "Melhor classificador:  DecisionTreeClassifier(max_depth=2, min_samples_leaf=5, random_state=42)\n",
      "Score:  1.0\n",
      "\n",
      "Métrica de avaliacao:  precision\n",
      "Fitting 4 folds for each of 60 candidates, totalling 240 fits\n"
     ]
    },
    {
     "name": "stderr",
     "output_type": "stream",
     "text": [
      "C:\\ProgramData\\Anaconda3\\lib\\site-packages\\sklearn\\model_selection\\_search.py:918: UserWarning: One or more of the test scores are non-finite: [nan nan nan nan nan nan nan nan nan nan nan nan nan nan nan nan nan nan\n",
      " nan nan nan nan nan nan nan nan nan nan nan nan nan nan nan nan nan nan\n",
      " nan nan nan nan nan nan nan nan nan nan nan nan nan nan nan nan nan nan\n",
      " nan nan nan nan nan nan]\n",
      "  warnings.warn(\n"
     ]
    },
    {
     "name": "stdout",
     "output_type": "stream",
     "text": [
      "Melhor classificador:  DecisionTreeClassifier(max_depth=2, min_samples_leaf=5, random_state=42)\n",
      "Score:  nan\n",
      "\n",
      "Métrica de avaliacao:  recall\n",
      "Fitting 4 folds for each of 60 candidates, totalling 240 fits\n"
     ]
    },
    {
     "name": "stderr",
     "output_type": "stream",
     "text": [
      "C:\\ProgramData\\Anaconda3\\lib\\site-packages\\sklearn\\model_selection\\_search.py:918: UserWarning: One or more of the test scores are non-finite: [nan nan nan nan nan nan nan nan nan nan nan nan nan nan nan nan nan nan\n",
      " nan nan nan nan nan nan nan nan nan nan nan nan nan nan nan nan nan nan\n",
      " nan nan nan nan nan nan nan nan nan nan nan nan nan nan nan nan nan nan\n",
      " nan nan nan nan nan nan]\n",
      "  warnings.warn(\n"
     ]
    },
    {
     "name": "stdout",
     "output_type": "stream",
     "text": [
      "Melhor classificador:  DecisionTreeClassifier(max_depth=2, min_samples_leaf=5, random_state=42)\n",
      "Score:  nan\n",
      "\n",
      "Métrica de avaliacao:  f1\n",
      "Fitting 4 folds for each of 60 candidates, totalling 240 fits\n"
     ]
    },
    {
     "name": "stderr",
     "output_type": "stream",
     "text": [
      "C:\\ProgramData\\Anaconda3\\lib\\site-packages\\sklearn\\model_selection\\_search.py:918: UserWarning: One or more of the test scores are non-finite: [nan nan nan nan nan nan nan nan nan nan nan nan nan nan nan nan nan nan\n",
      " nan nan nan nan nan nan nan nan nan nan nan nan nan nan nan nan nan nan\n",
      " nan nan nan nan nan nan nan nan nan nan nan nan nan nan nan nan nan nan\n",
      " nan nan nan nan nan nan]\n",
      "  warnings.warn(\n",
      "C:\\ProgramData\\Anaconda3\\lib\\site-packages\\sklearn\\model_selection\\_search.py:918: UserWarning: One or more of the test scores are non-finite: [nan nan nan nan nan nan nan nan nan nan nan nan nan nan nan nan nan nan\n",
      " nan nan nan nan nan nan nan nan nan nan nan nan nan nan nan nan nan nan\n",
      " nan nan nan nan nan nan nan nan nan nan nan nan nan nan nan nan nan nan\n",
      " nan nan nan nan nan nan]\n",
      "  warnings.warn(\n"
     ]
    },
    {
     "name": "stdout",
     "output_type": "stream",
     "text": [
      "Melhor classificador:  DecisionTreeClassifier(max_depth=2, min_samples_leaf=5, random_state=42)\n",
      "Score:  nan\n",
      "\n",
      "Métrica de avaliacao:  roc_auc\n",
      "Fitting 4 folds for each of 60 candidates, totalling 240 fits\n",
      "Melhor classificador:  DecisionTreeClassifier(max_depth=2, min_samples_leaf=5, random_state=42)\n",
      "Score:  nan\n",
      "\n"
     ]
    }
   ],
   "source": [
    "dt = DecisionTreeClassifier(random_state=42)\n",
    "params = {\n",
    "    'criterion': ['gini','entropy'],\n",
    "    'max_depth': [2,3,5,10,20],\n",
    "    'min_samples_leaf': [5,10,20,50,100,200]\n",
    "}\n",
    "for score_item in scoring:\n",
    "    print('Métrica de avaliacao: ', score_item)\n",
    "    grid_search = GridSearchCV(estimator=dt,\n",
    "                            param_grid=params,\n",
    "                            cv = 4,\n",
    "                            n_jobs=-1, verbose=1, scoring=score_item)\n",
    "    #%%time\n",
    "    grid_search.fit(X, y)\n",
    "    best = grid_search.best_estimator_\n",
    "    print('Melhor classificador: ',best)\n",
    "    print('Score: ',grid_search.best_score_)\n",
    "    print()\n",
    "    if (dt_best_score < grid_search.best_score_):\n",
    "        dt_best_estimator = best\n",
    "        dt_best_score = grid_search.best_score_"
   ]
  },
  {
   "cell_type": "markdown",
   "id": "19a6b2c1",
   "metadata": {},
   "source": [
    "## Random Forest"
   ]
  },
  {
   "cell_type": "code",
   "execution_count": 16,
   "id": "445211f1",
   "metadata": {},
   "outputs": [
    {
     "name": "stdout",
     "output_type": "stream",
     "text": [
      "Métrica de avaliacao:  accuracy\n",
      "Fitting 4 folds for each of 360 candidates, totalling 1440 fits\n",
      "Melhor classificador:  RandomForestClassifier(max_depth=5, min_samples_leaf=5, n_estimators=10,\n",
      "                       random_state=42)\n",
      "Score:  0.9132653061224489\n",
      "\n",
      "Métrica de avaliacao:  precision\n",
      "Fitting 4 folds for each of 360 candidates, totalling 1440 fits\n"
     ]
    },
    {
     "name": "stderr",
     "output_type": "stream",
     "text": [
      "C:\\ProgramData\\Anaconda3\\lib\\site-packages\\sklearn\\model_selection\\_search.py:918: UserWarning: One or more of the test scores are non-finite: [nan nan nan nan nan nan nan nan nan nan nan nan nan nan nan nan nan nan\n",
      " nan nan nan nan nan nan nan nan nan nan nan nan nan nan nan nan nan nan\n",
      " nan nan nan nan nan nan nan nan nan nan nan nan nan nan nan nan nan nan\n",
      " nan nan nan nan nan nan nan nan nan nan nan nan nan nan nan nan nan nan\n",
      " nan nan nan nan nan nan nan nan nan nan nan nan nan nan nan nan nan nan\n",
      " nan nan nan nan nan nan nan nan nan nan nan nan nan nan nan nan nan nan\n",
      " nan nan nan nan nan nan nan nan nan nan nan nan nan nan nan nan nan nan\n",
      " nan nan nan nan nan nan nan nan nan nan nan nan nan nan nan nan nan nan\n",
      " nan nan nan nan nan nan nan nan nan nan nan nan nan nan nan nan nan nan\n",
      " nan nan nan nan nan nan nan nan nan nan nan nan nan nan nan nan nan nan\n",
      " nan nan nan nan nan nan nan nan nan nan nan nan nan nan nan nan nan nan\n",
      " nan nan nan nan nan nan nan nan nan nan nan nan nan nan nan nan nan nan\n",
      " nan nan nan nan nan nan nan nan nan nan nan nan nan nan nan nan nan nan\n",
      " nan nan nan nan nan nan nan nan nan nan nan nan nan nan nan nan nan nan\n",
      " nan nan nan nan nan nan nan nan nan nan nan nan nan nan nan nan nan nan\n",
      " nan nan nan nan nan nan nan nan nan nan nan nan nan nan nan nan nan nan\n",
      " nan nan nan nan nan nan nan nan nan nan nan nan nan nan nan nan nan nan\n",
      " nan nan nan nan nan nan nan nan nan nan nan nan nan nan nan nan nan nan\n",
      " nan nan nan nan nan nan nan nan nan nan nan nan nan nan nan nan nan nan\n",
      " nan nan nan nan nan nan nan nan nan nan nan nan nan nan nan nan nan nan]\n",
      "  warnings.warn(\n"
     ]
    },
    {
     "name": "stdout",
     "output_type": "stream",
     "text": [
      "Melhor classificador:  RandomForestClassifier(max_depth=2, min_samples_leaf=5, n_estimators=10,\n",
      "                       random_state=42)\n",
      "Score:  nan\n",
      "\n",
      "Métrica de avaliacao:  recall\n",
      "Fitting 4 folds for each of 360 candidates, totalling 1440 fits\n"
     ]
    },
    {
     "name": "stderr",
     "output_type": "stream",
     "text": [
      "C:\\ProgramData\\Anaconda3\\lib\\site-packages\\sklearn\\model_selection\\_search.py:918: UserWarning: One or more of the test scores are non-finite: [nan nan nan nan nan nan nan nan nan nan nan nan nan nan nan nan nan nan\n",
      " nan nan nan nan nan nan nan nan nan nan nan nan nan nan nan nan nan nan\n",
      " nan nan nan nan nan nan nan nan nan nan nan nan nan nan nan nan nan nan\n",
      " nan nan nan nan nan nan nan nan nan nan nan nan nan nan nan nan nan nan\n",
      " nan nan nan nan nan nan nan nan nan nan nan nan nan nan nan nan nan nan\n",
      " nan nan nan nan nan nan nan nan nan nan nan nan nan nan nan nan nan nan\n",
      " nan nan nan nan nan nan nan nan nan nan nan nan nan nan nan nan nan nan\n",
      " nan nan nan nan nan nan nan nan nan nan nan nan nan nan nan nan nan nan\n",
      " nan nan nan nan nan nan nan nan nan nan nan nan nan nan nan nan nan nan\n",
      " nan nan nan nan nan nan nan nan nan nan nan nan nan nan nan nan nan nan\n",
      " nan nan nan nan nan nan nan nan nan nan nan nan nan nan nan nan nan nan\n",
      " nan nan nan nan nan nan nan nan nan nan nan nan nan nan nan nan nan nan\n",
      " nan nan nan nan nan nan nan nan nan nan nan nan nan nan nan nan nan nan\n",
      " nan nan nan nan nan nan nan nan nan nan nan nan nan nan nan nan nan nan\n",
      " nan nan nan nan nan nan nan nan nan nan nan nan nan nan nan nan nan nan\n",
      " nan nan nan nan nan nan nan nan nan nan nan nan nan nan nan nan nan nan\n",
      " nan nan nan nan nan nan nan nan nan nan nan nan nan nan nan nan nan nan\n",
      " nan nan nan nan nan nan nan nan nan nan nan nan nan nan nan nan nan nan\n",
      " nan nan nan nan nan nan nan nan nan nan nan nan nan nan nan nan nan nan\n",
      " nan nan nan nan nan nan nan nan nan nan nan nan nan nan nan nan nan nan]\n",
      "  warnings.warn(\n"
     ]
    },
    {
     "name": "stdout",
     "output_type": "stream",
     "text": [
      "Melhor classificador:  RandomForestClassifier(max_depth=2, min_samples_leaf=5, n_estimators=10,\n",
      "                       random_state=42)\n",
      "Score:  nan\n",
      "\n",
      "Métrica de avaliacao:  f1\n",
      "Fitting 4 folds for each of 360 candidates, totalling 1440 fits\n"
     ]
    },
    {
     "name": "stderr",
     "output_type": "stream",
     "text": [
      "C:\\ProgramData\\Anaconda3\\lib\\site-packages\\sklearn\\model_selection\\_search.py:918: UserWarning: One or more of the test scores are non-finite: [nan nan nan nan nan nan nan nan nan nan nan nan nan nan nan nan nan nan\n",
      " nan nan nan nan nan nan nan nan nan nan nan nan nan nan nan nan nan nan\n",
      " nan nan nan nan nan nan nan nan nan nan nan nan nan nan nan nan nan nan\n",
      " nan nan nan nan nan nan nan nan nan nan nan nan nan nan nan nan nan nan\n",
      " nan nan nan nan nan nan nan nan nan nan nan nan nan nan nan nan nan nan\n",
      " nan nan nan nan nan nan nan nan nan nan nan nan nan nan nan nan nan nan\n",
      " nan nan nan nan nan nan nan nan nan nan nan nan nan nan nan nan nan nan\n",
      " nan nan nan nan nan nan nan nan nan nan nan nan nan nan nan nan nan nan\n",
      " nan nan nan nan nan nan nan nan nan nan nan nan nan nan nan nan nan nan\n",
      " nan nan nan nan nan nan nan nan nan nan nan nan nan nan nan nan nan nan\n",
      " nan nan nan nan nan nan nan nan nan nan nan nan nan nan nan nan nan nan\n",
      " nan nan nan nan nan nan nan nan nan nan nan nan nan nan nan nan nan nan\n",
      " nan nan nan nan nan nan nan nan nan nan nan nan nan nan nan nan nan nan\n",
      " nan nan nan nan nan nan nan nan nan nan nan nan nan nan nan nan nan nan\n",
      " nan nan nan nan nan nan nan nan nan nan nan nan nan nan nan nan nan nan\n",
      " nan nan nan nan nan nan nan nan nan nan nan nan nan nan nan nan nan nan\n",
      " nan nan nan nan nan nan nan nan nan nan nan nan nan nan nan nan nan nan\n",
      " nan nan nan nan nan nan nan nan nan nan nan nan nan nan nan nan nan nan\n",
      " nan nan nan nan nan nan nan nan nan nan nan nan nan nan nan nan nan nan\n",
      " nan nan nan nan nan nan nan nan nan nan nan nan nan nan nan nan nan nan]\n",
      "  warnings.warn(\n"
     ]
    },
    {
     "name": "stdout",
     "output_type": "stream",
     "text": [
      "Melhor classificador:  RandomForestClassifier(max_depth=2, min_samples_leaf=5, n_estimators=10,\n",
      "                       random_state=42)\n",
      "Score:  nan\n",
      "\n",
      "Métrica de avaliacao:  roc_auc\n",
      "Fitting 4 folds for each of 360 candidates, totalling 1440 fits\n",
      "Melhor classificador:  RandomForestClassifier(max_depth=2, min_samples_leaf=5, n_estimators=10,\n",
      "                       random_state=42)\n",
      "Score:  nan\n",
      "\n"
     ]
    },
    {
     "name": "stderr",
     "output_type": "stream",
     "text": [
      "C:\\ProgramData\\Anaconda3\\lib\\site-packages\\sklearn\\model_selection\\_search.py:918: UserWarning: One or more of the test scores are non-finite: [nan nan nan nan nan nan nan nan nan nan nan nan nan nan nan nan nan nan\n",
      " nan nan nan nan nan nan nan nan nan nan nan nan nan nan nan nan nan nan\n",
      " nan nan nan nan nan nan nan nan nan nan nan nan nan nan nan nan nan nan\n",
      " nan nan nan nan nan nan nan nan nan nan nan nan nan nan nan nan nan nan\n",
      " nan nan nan nan nan nan nan nan nan nan nan nan nan nan nan nan nan nan\n",
      " nan nan nan nan nan nan nan nan nan nan nan nan nan nan nan nan nan nan\n",
      " nan nan nan nan nan nan nan nan nan nan nan nan nan nan nan nan nan nan\n",
      " nan nan nan nan nan nan nan nan nan nan nan nan nan nan nan nan nan nan\n",
      " nan nan nan nan nan nan nan nan nan nan nan nan nan nan nan nan nan nan\n",
      " nan nan nan nan nan nan nan nan nan nan nan nan nan nan nan nan nan nan\n",
      " nan nan nan nan nan nan nan nan nan nan nan nan nan nan nan nan nan nan\n",
      " nan nan nan nan nan nan nan nan nan nan nan nan nan nan nan nan nan nan\n",
      " nan nan nan nan nan nan nan nan nan nan nan nan nan nan nan nan nan nan\n",
      " nan nan nan nan nan nan nan nan nan nan nan nan nan nan nan nan nan nan\n",
      " nan nan nan nan nan nan nan nan nan nan nan nan nan nan nan nan nan nan\n",
      " nan nan nan nan nan nan nan nan nan nan nan nan nan nan nan nan nan nan\n",
      " nan nan nan nan nan nan nan nan nan nan nan nan nan nan nan nan nan nan\n",
      " nan nan nan nan nan nan nan nan nan nan nan nan nan nan nan nan nan nan\n",
      " nan nan nan nan nan nan nan nan nan nan nan nan nan nan nan nan nan nan\n",
      " nan nan nan nan nan nan nan nan nan nan nan nan nan nan nan nan nan nan]\n",
      "  warnings.warn(\n"
     ]
    }
   ],
   "source": [
    "rf = RandomForestClassifier(random_state=42)\n",
    "params = {\n",
    "    'criterion': ['gini','entropy'],\n",
    "    'max_depth': [2,3,5,10,20],\n",
    "    'min_samples_leaf': [5,10,20,50,100,200],\n",
    "    'n_estimators': [10,25,30,50,100,200]\n",
    "}\n",
    "for score_item in scoring:\n",
    "    print('Métrica de avaliacao: ', score_item)\n",
    "    grid_search = GridSearchCV(estimator=rf,\n",
    "                            param_grid=params,\n",
    "                            cv = 4,\n",
    "                            n_jobs=-1, verbose=1, scoring=score_item)\n",
    "    #%%time\n",
    "    grid_search.fit(X, y)\n",
    "    best = grid_search.best_estimator_\n",
    "    print('Melhor classificador: ',best)\n",
    "    print('Score: ',grid_search.best_score_)\n",
    "    print()\n",
    "    if (rf_best_score < grid_search.best_score_):\n",
    "        rf_best_estimator = best\n",
    "        rf_best_score = grid_search.best_score_"
   ]
  },
  {
   "cell_type": "markdown",
   "id": "6caec694",
   "metadata": {},
   "source": [
    "## MLP"
   ]
  },
  {
   "cell_type": "code",
   "execution_count": 17,
   "id": "688aa585",
   "metadata": {},
   "outputs": [
    {
     "name": "stdout",
     "output_type": "stream",
     "text": [
      "Métrica de avaliacao:  accuracy\n",
      "Fitting 4 folds for each of 32 candidates, totalling 128 fits\n"
     ]
    },
    {
     "name": "stderr",
     "output_type": "stream",
     "text": [
      "C:\\ProgramData\\Anaconda3\\lib\\site-packages\\sklearn\\neural_network\\_multilayer_perceptron.py:614: ConvergenceWarning: Stochastic Optimizer: Maximum iterations (100) reached and the optimization hasn't converged yet.\n",
      "  warnings.warn(\n"
     ]
    },
    {
     "name": "stdout",
     "output_type": "stream",
     "text": [
      "Melhor classificador:  MLPClassifier(activation='tanh', hidden_layer_sizes=(10, 30, 10),\n",
      "              learning_rate='adaptive', max_iter=100)\n",
      "Score:  0.8979591836734694\n",
      "\n",
      "Métrica de avaliacao:  precision\n",
      "Fitting 4 folds for each of 32 candidates, totalling 128 fits\n"
     ]
    },
    {
     "name": "stderr",
     "output_type": "stream",
     "text": [
      "C:\\ProgramData\\Anaconda3\\lib\\site-packages\\sklearn\\model_selection\\_search.py:918: UserWarning: One or more of the test scores are non-finite: [nan nan nan nan nan nan nan nan nan nan nan nan nan nan nan nan nan nan\n",
      " nan nan nan nan nan nan nan nan nan nan nan nan nan nan]\n",
      "  warnings.warn(\n",
      "C:\\ProgramData\\Anaconda3\\lib\\site-packages\\sklearn\\neural_network\\_multilayer_perceptron.py:614: ConvergenceWarning: Stochastic Optimizer: Maximum iterations (100) reached and the optimization hasn't converged yet.\n",
      "  warnings.warn(\n"
     ]
    },
    {
     "name": "stdout",
     "output_type": "stream",
     "text": [
      "Melhor classificador:  MLPClassifier(activation='tanh', hidden_layer_sizes=(10, 30, 10), max_iter=100,\n",
      "              solver='sgd')\n",
      "Score:  nan\n",
      "\n",
      "Métrica de avaliacao:  recall\n",
      "Fitting 4 folds for each of 32 candidates, totalling 128 fits\n"
     ]
    },
    {
     "name": "stderr",
     "output_type": "stream",
     "text": [
      "C:\\ProgramData\\Anaconda3\\lib\\site-packages\\sklearn\\model_selection\\_search.py:918: UserWarning: One or more of the test scores are non-finite: [nan nan nan nan nan nan nan nan nan nan nan nan nan nan nan nan nan nan\n",
      " nan nan nan nan nan nan nan nan nan nan nan nan nan nan]\n",
      "  warnings.warn(\n",
      "C:\\ProgramData\\Anaconda3\\lib\\site-packages\\sklearn\\neural_network\\_multilayer_perceptron.py:614: ConvergenceWarning: Stochastic Optimizer: Maximum iterations (100) reached and the optimization hasn't converged yet.\n",
      "  warnings.warn(\n"
     ]
    },
    {
     "name": "stdout",
     "output_type": "stream",
     "text": [
      "Melhor classificador:  MLPClassifier(activation='tanh', hidden_layer_sizes=(10, 30, 10), max_iter=100,\n",
      "              solver='sgd')\n",
      "Score:  nan\n",
      "\n",
      "Métrica de avaliacao:  f1\n",
      "Fitting 4 folds for each of 32 candidates, totalling 128 fits\n"
     ]
    },
    {
     "name": "stderr",
     "output_type": "stream",
     "text": [
      "C:\\ProgramData\\Anaconda3\\lib\\site-packages\\sklearn\\model_selection\\_search.py:918: UserWarning: One or more of the test scores are non-finite: [nan nan nan nan nan nan nan nan nan nan nan nan nan nan nan nan nan nan\n",
      " nan nan nan nan nan nan nan nan nan nan nan nan nan nan]\n",
      "  warnings.warn(\n",
      "C:\\ProgramData\\Anaconda3\\lib\\site-packages\\sklearn\\neural_network\\_multilayer_perceptron.py:614: ConvergenceWarning: Stochastic Optimizer: Maximum iterations (100) reached and the optimization hasn't converged yet.\n",
      "  warnings.warn(\n"
     ]
    },
    {
     "name": "stdout",
     "output_type": "stream",
     "text": [
      "Melhor classificador:  MLPClassifier(activation='tanh', hidden_layer_sizes=(10, 30, 10), max_iter=100,\n",
      "              solver='sgd')\n",
      "Score:  nan\n",
      "\n",
      "Métrica de avaliacao:  roc_auc\n",
      "Fitting 4 folds for each of 32 candidates, totalling 128 fits\n",
      "Melhor classificador:  MLPClassifier(activation='tanh', hidden_layer_sizes=(10, 30, 10), max_iter=100,\n",
      "              solver='sgd')\n",
      "Score:  nan\n",
      "\n"
     ]
    },
    {
     "name": "stderr",
     "output_type": "stream",
     "text": [
      "C:\\ProgramData\\Anaconda3\\lib\\site-packages\\sklearn\\model_selection\\_search.py:918: UserWarning: One or more of the test scores are non-finite: [nan nan nan nan nan nan nan nan nan nan nan nan nan nan nan nan nan nan\n",
      " nan nan nan nan nan nan nan nan nan nan nan nan nan nan]\n",
      "  warnings.warn(\n",
      "C:\\ProgramData\\Anaconda3\\lib\\site-packages\\sklearn\\neural_network\\_multilayer_perceptron.py:614: ConvergenceWarning: Stochastic Optimizer: Maximum iterations (100) reached and the optimization hasn't converged yet.\n",
      "  warnings.warn(\n"
     ]
    }
   ],
   "source": [
    "mlp = MLPClassifier(max_iter=100)\n",
    "params = {\n",
    "    'hidden_layer_sizes': [(10,30,10),(20,)],\n",
    "    'activation': ['tanh', 'relu'],\n",
    "    'solver': ['sgd', 'adam'],\n",
    "    'alpha': [0.0001, 0.05],\n",
    "    'learning_rate': ['constant','adaptive'],\n",
    "}\n",
    "for score_item in scoring:\n",
    "    print('Métrica de avaliacao: ', score_item)\n",
    "    grid_search = GridSearchCV(estimator=mlp,\n",
    "                            param_grid=params,\n",
    "                            cv = 4,\n",
    "                            n_jobs=-1, verbose=1, scoring=score_item)\n",
    "    #%%time\n",
    "    grid_search.fit(X, y)\n",
    "    best = grid_search.best_estimator_\n",
    "    print('Melhor classificador: ',best)\n",
    "    print('Score: ',grid_search.best_score_)\n",
    "    print()\n",
    "    if (mlp_best_score < grid_search.best_score_):\n",
    "        mlp_best_estimator = best\n",
    "        mlp_best_score = grid_search.best_score_"
   ]
  },
  {
   "cell_type": "markdown",
   "id": "d6695333",
   "metadata": {},
   "source": [
    "## SVM"
   ]
  },
  {
   "cell_type": "code",
   "execution_count": 18,
   "id": "4ee95304",
   "metadata": {},
   "outputs": [
    {
     "name": "stdout",
     "output_type": "stream",
     "text": [
      "Métrica de avaliacao:  accuracy\n",
      "Fitting 4 folds for each of 16 candidates, totalling 64 fits\n",
      "Melhor classificador:  SVC(C=0.1, gamma=1)\n",
      "Score:  0.8928571428571429\n",
      "\n",
      "Métrica de avaliacao:  precision\n",
      "Fitting 4 folds for each of 16 candidates, totalling 64 fits\n"
     ]
    },
    {
     "name": "stderr",
     "output_type": "stream",
     "text": [
      "C:\\ProgramData\\Anaconda3\\lib\\site-packages\\sklearn\\model_selection\\_search.py:918: UserWarning: One or more of the test scores are non-finite: [nan nan nan nan nan nan nan nan nan nan nan nan nan nan nan nan]\n",
      "  warnings.warn(\n",
      "C:\\ProgramData\\Anaconda3\\lib\\site-packages\\sklearn\\model_selection\\_search.py:918: UserWarning: One or more of the test scores are non-finite: [nan nan nan nan nan nan nan nan nan nan nan nan nan nan nan nan]\n",
      "  warnings.warn(\n",
      "C:\\ProgramData\\Anaconda3\\lib\\site-packages\\sklearn\\model_selection\\_search.py:918: UserWarning: One or more of the test scores are non-finite: [nan nan nan nan nan nan nan nan nan nan nan nan nan nan nan nan]\n",
      "  warnings.warn(\n"
     ]
    },
    {
     "name": "stdout",
     "output_type": "stream",
     "text": [
      "Melhor classificador:  SVC(C=0.1, gamma=1)\n",
      "Score:  nan\n",
      "\n",
      "Métrica de avaliacao:  recall\n",
      "Fitting 4 folds for each of 16 candidates, totalling 64 fits\n",
      "Melhor classificador:  SVC(C=0.1, gamma=1)\n",
      "Score:  nan\n",
      "\n",
      "Métrica de avaliacao:  f1\n",
      "Fitting 4 folds for each of 16 candidates, totalling 64 fits\n",
      "Melhor classificador:  SVC(C=0.1, gamma=1)\n",
      "Score:  nan\n",
      "\n",
      "Métrica de avaliacao:  roc_auc\n",
      "Fitting 4 folds for each of 16 candidates, totalling 64 fits\n",
      "Melhor classificador:  SVC(C=0.1, gamma=1)\n",
      "Score:  nan\n",
      "\n"
     ]
    },
    {
     "name": "stderr",
     "output_type": "stream",
     "text": [
      "C:\\ProgramData\\Anaconda3\\lib\\site-packages\\sklearn\\model_selection\\_search.py:918: UserWarning: One or more of the test scores are non-finite: [nan nan nan nan nan nan nan nan nan nan nan nan nan nan nan nan]\n",
      "  warnings.warn(\n"
     ]
    }
   ],
   "source": [
    "#kernel rbf\n",
    "svc_kernel = 'rbf'\n",
    "svc = SVC(kernel='rbf')\n",
    "params = {'C': [0.1, 1, 10, 100], \n",
    "          'gamma': [1,0.1, 0.01, 0.001]}\n",
    "for score_item in scoring:\n",
    "    print('Métrica de avaliacao: ', score_item)\n",
    "    grid_search = GridSearchCV(estimator=svc,\n",
    "                            param_grid=params,\n",
    "                            cv = 4,\n",
    "                            n_jobs=-1, verbose=1, scoring=score_item)\n",
    "    #%%time\n",
    "    grid_search.fit(X, y)\n",
    "    best = grid_search.best_estimator_\n",
    "    print('Melhor classificador: ',best)\n",
    "    print('Score: ',grid_search.best_score_)\n",
    "    print()\n",
    "    if (svc_best_score < grid_search.best_score_):\n",
    "        svc_best_estimator = best\n",
    "        svc_best_score = grid_search.best_score_\n",
    "        "
   ]
  },
  {
   "cell_type": "code",
   "execution_count": 19,
   "id": "3565f6eb",
   "metadata": {},
   "outputs": [
    {
     "name": "stdout",
     "output_type": "stream",
     "text": [
      "Métrica de avaliacao:  accuracy\n",
      "Fitting 4 folds for each of 3 candidates, totalling 12 fits\n",
      "Melhor classificador:  SVC(C=1, kernel='linear')\n",
      "Score:  0.6887755102040816\n",
      "\n",
      "Métrica de avaliacao:  precision\n",
      "Fitting 4 folds for each of 3 candidates, totalling 12 fits\n",
      "Melhor classificador:  SVC(C=0.1, kernel='linear')\n",
      "Score:  nan\n",
      "\n",
      "Métrica de avaliacao:  recall\n",
      "Fitting 4 folds for each of 3 candidates, totalling 12 fits\n",
      "Melhor classificador:  SVC(C=0.1, kernel='linear')\n",
      "Score:  nan\n",
      "\n",
      "Métrica de avaliacao:  f1\n",
      "Fitting 4 folds for each of 3 candidates, totalling 12 fits\n",
      "Melhor classificador:  SVC(C=0.1, kernel='linear')\n",
      "Score:  nan\n",
      "\n",
      "Métrica de avaliacao:  roc_auc\n",
      "Fitting 4 folds for each of 3 candidates, totalling 12 fits\n",
      "Melhor classificador:  SVC(C=0.1, kernel='linear')\n",
      "Score:  nan\n",
      "\n"
     ]
    },
    {
     "name": "stderr",
     "output_type": "stream",
     "text": [
      "C:\\ProgramData\\Anaconda3\\lib\\site-packages\\sklearn\\model_selection\\_search.py:918: UserWarning: One or more of the test scores are non-finite: [nan nan nan]\n",
      "  warnings.warn(\n",
      "C:\\ProgramData\\Anaconda3\\lib\\site-packages\\sklearn\\model_selection\\_search.py:918: UserWarning: One or more of the test scores are non-finite: [nan nan nan]\n",
      "  warnings.warn(\n",
      "C:\\ProgramData\\Anaconda3\\lib\\site-packages\\sklearn\\model_selection\\_search.py:918: UserWarning: One or more of the test scores are non-finite: [nan nan nan]\n",
      "  warnings.warn(\n",
      "C:\\ProgramData\\Anaconda3\\lib\\site-packages\\sklearn\\model_selection\\_search.py:918: UserWarning: One or more of the test scores are non-finite: [nan nan nan]\n",
      "  warnings.warn(\n"
     ]
    }
   ],
   "source": [
    "#kernel linear\n",
    "svc_kernel = 'linear'\n",
    "svc = SVC(kernel='linear')\n",
    "params = {'C': [0.1,1,10]}\n",
    "for score_item in scoring:\n",
    "    print('Métrica de avaliacao: ', score_item)\n",
    "    grid_search = GridSearchCV(estimator=svc,\n",
    "                            param_grid=params,\n",
    "                            cv = 4,\n",
    "                            n_jobs=-1, verbose=1, scoring=score_item)\n",
    "    #%%time\n",
    "    grid_search.fit(X, y)\n",
    "    best = grid_search.best_estimator_\n",
    "    print('Melhor classificador: ',best)\n",
    "    print('Score: ',grid_search.best_score_)\n",
    "    print()\n",
    "    if (svc_best_score < grid_search.best_score_):\n",
    "        svc_best_estimator = best\n",
    "        svc_best_score = grid_search.best_score_"
   ]
  },
  {
   "cell_type": "code",
   "execution_count": 20,
   "id": "ab834d65",
   "metadata": {},
   "outputs": [
    {
     "name": "stdout",
     "output_type": "stream",
     "text": [
      "Métrica de avaliacao:  accuracy\n",
      "Fitting 4 folds for each of 18 candidates, totalling 72 fits\n",
      "Melhor classificador:  SVC(C=0.1, degree=4, gamma=1, kernel='poly')\n",
      "Score:  0.7857142857142858\n",
      "\n",
      "Métrica de avaliacao:  precision\n",
      "Fitting 4 folds for each of 18 candidates, totalling 72 fits\n",
      "Melhor classificador:  SVC(C=0.1, gamma=1, kernel='poly')\n",
      "Score:  nan\n",
      "\n",
      "Métrica de avaliacao:  recall\n",
      "Fitting 4 folds for each of 18 candidates, totalling 72 fits\n",
      "Melhor classificador:  SVC(C=0.1, gamma=1, kernel='poly')\n",
      "Score:  nan\n",
      "\n",
      "Métrica de avaliacao:  f1\n"
     ]
    },
    {
     "name": "stderr",
     "output_type": "stream",
     "text": [
      "C:\\ProgramData\\Anaconda3\\lib\\site-packages\\sklearn\\model_selection\\_search.py:918: UserWarning: One or more of the test scores are non-finite: [nan nan nan nan nan nan nan nan nan nan nan nan nan nan nan nan nan nan]\n",
      "  warnings.warn(\n",
      "C:\\ProgramData\\Anaconda3\\lib\\site-packages\\sklearn\\model_selection\\_search.py:918: UserWarning: One or more of the test scores are non-finite: [nan nan nan nan nan nan nan nan nan nan nan nan nan nan nan nan nan nan]\n",
      "  warnings.warn(\n",
      "C:\\ProgramData\\Anaconda3\\lib\\site-packages\\sklearn\\model_selection\\_search.py:918: UserWarning: One or more of the test scores are non-finite: [nan nan nan nan nan nan nan nan nan nan nan nan nan nan nan nan nan nan]\n",
      "  warnings.warn(\n"
     ]
    },
    {
     "name": "stdout",
     "output_type": "stream",
     "text": [
      "Fitting 4 folds for each of 18 candidates, totalling 72 fits\n",
      "Melhor classificador:  SVC(C=0.1, gamma=1, kernel='poly')\n",
      "Score:  nan\n",
      "\n",
      "Métrica de avaliacao:  roc_auc\n",
      "Fitting 4 folds for each of 18 candidates, totalling 72 fits\n",
      "Melhor classificador:  SVC(C=0.1, gamma=1, kernel='poly')\n",
      "Score:  nan\n",
      "\n"
     ]
    },
    {
     "name": "stderr",
     "output_type": "stream",
     "text": [
      "C:\\ProgramData\\Anaconda3\\lib\\site-packages\\sklearn\\model_selection\\_search.py:918: UserWarning: One or more of the test scores are non-finite: [nan nan nan nan nan nan nan nan nan nan nan nan nan nan nan nan nan nan]\n",
      "  warnings.warn(\n"
     ]
    }
   ],
   "source": [
    "#kernel polinomial\n",
    "svc_kernel = 'polinomial'\n",
    "svc = SVC(kernel='poly')\n",
    "params = {'C': [0.1, 1, 10], \n",
    "          'gamma': [1,0.1,0.01],\n",
    "          'degree': [3,4]}\n",
    "for score_item in scoring:\n",
    "    print('Métrica de avaliacao: ', score_item)\n",
    "    grid_search = GridSearchCV(estimator=svc,\n",
    "                            param_grid=params,\n",
    "                            cv = 4,\n",
    "                            n_jobs=-1, verbose=1, scoring=score_item)\n",
    "    #%%time\n",
    "    grid_search.fit(X, y)\n",
    "    best = grid_search.best_estimator_\n",
    "    print('Melhor classificador: ',best)\n",
    "    print('Score: ',grid_search.best_score_)\n",
    "    print()\n",
    "    if (svc_best_score < grid_search.best_score_):\n",
    "        svc_best_estimator = best\n",
    "        svc_best_score = grid_search.best_score_\n",
    "        "
   ]
  }
 ],
 "metadata": {
  "kernelspec": {
   "display_name": "Python 3",
   "language": "python",
   "name": "python3"
  },
  "language_info": {
   "codemirror_mode": {
    "name": "ipython",
    "version": 3
   },
   "file_extension": ".py",
   "mimetype": "text/x-python",
   "name": "python",
   "nbconvert_exporter": "python",
   "pygments_lexer": "ipython3",
   "version": "3.8.8"
  }
 },
 "nbformat": 4,
 "nbformat_minor": 5
}
